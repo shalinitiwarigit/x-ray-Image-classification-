{
 "cells": [
  {
   "cell_type": "code",
   "execution_count": 3,
   "id": "ce2741a1-5e64-48bf-89f4-3ba8b29d1d75",
   "metadata": {},
   "outputs": [],
   "source": [
    "import numpy as np\n",
    "import pandas as pd"
   ]
  },
  {
   "cell_type": "code",
   "execution_count": 4,
   "id": "ae501600-3381-450e-b80a-45b8f66b7e2c",
   "metadata": {},
   "outputs": [],
   "source": [
    "import os\n",
    "import matplotlib.pyplot as plt\n",
    "from tensorflow.keras.preprocessing.image import ImageDataGenerator\n",
    "from tensorflow.keras.models import Sequential\n",
    "from tensorflow.keras.layers import Conv2D, MaxPooling2D, Flatten, Dense, Dropout\n",
    "from tensorflow.keras.optimizers import Adam"
   ]
  },
  {
   "cell_type": "code",
   "execution_count": 5,
   "id": "269a9580-f924-498d-bc8b-eb7d38ba9ba3",
   "metadata": {},
   "outputs": [],
   "source": [
    "train_path=r\"C:\\Users\\Aman Tiwari\\Desktop\\Machine_Learning\\train-x-ray\"\n",
    "test_path=r\"C:\\Users\\Aman Tiwari\\Desktop\\Machine_Learning\\test-x-ray\"\n"
   ]
  },
  {
   "cell_type": "code",
   "execution_count": 6,
   "id": "46a8f9d9-d96b-484b-a1bb-48a8e6931a52",
   "metadata": {},
   "outputs": [
    {
     "name": "stdout",
     "output_type": "stream",
     "text": [
      "Found 5216 images belonging to 2 classes.\n",
      "Found 624 images belonging to 2 classes.\n"
     ]
    }
   ],
   "source": [
    "train_datagen = ImageDataGenerator(rescale=1./255)\n",
    "test_datagen = ImageDataGenerator(rescale=1./255)\n",
    "\n",
    "train_set = train_datagen.flow_from_directory(\n",
    "    train_path, target_size=(150,150), class_mode='binary', batch_size=32)\n",
    "\n",
    "test_set = test_datagen.flow_from_directory(\n",
    "    test_path, target_size=(150,150), class_mode='binary', batch_size=32)\n"
   ]
  },
  {
   "cell_type": "code",
   "execution_count": 15,
   "id": "cacc8851-f7b8-4921-b921-ad1513a70bed",
   "metadata": {},
   "outputs": [],
   "source": [
    "#CNN Architecture\n",
    "model=Sequential([\n",
    "    Conv2D(32,(3,3),activation='relu',input_shape=(150,150,3)),\n",
    "    MaxPooling2D(2,2),\n",
    "    Dropout(0.5),\n",
    "    Conv2D(64,(3,3),activation='relu'),\n",
    "    MaxPooling2D(2,2),\n",
    "    Dropout(0.5),\n",
    "    Flatten(),\n",
    "    Dense(128,activation='relu'),\n",
    "    Dropout(0.5),\n",
    "    Dense(1,activation='sigmoid')\n",
    "])"
   ]
  },
  {
   "cell_type": "code",
   "execution_count": 16,
   "id": "2126149f-35f6-4e81-a659-32c7cfecd0df",
   "metadata": {},
   "outputs": [],
   "source": [
    "model.compile(optimizer='adam',loss='binary_crossentropy',metrics=['accuracy'])"
   ]
  },
  {
   "cell_type": "code",
   "execution_count": 20,
   "id": "00ec3fde-4fc7-46ad-9e5f-13f45cb07da4",
   "metadata": {},
   "outputs": [
    {
     "name": "stdout",
     "output_type": "stream",
     "text": [
      "Epoch 1/5\n",
      "\u001b[1m163/163\u001b[0m \u001b[32m━━━━━━━━━━━━━━━━━━━━\u001b[0m\u001b[37m\u001b[0m \u001b[1m90s\u001b[0m 553ms/step - accuracy: 0.9712 - loss: 0.0827 - val_accuracy: 0.7596 - val_loss: 0.9916\n",
      "Epoch 2/5\n",
      "\u001b[1m163/163\u001b[0m \u001b[32m━━━━━━━━━━━━━━━━━━━━\u001b[0m\u001b[37m\u001b[0m \u001b[1m91s\u001b[0m 559ms/step - accuracy: 0.9722 - loss: 0.0764 - val_accuracy: 0.7244 - val_loss: 1.1796\n",
      "Epoch 3/5\n",
      "\u001b[1m163/163\u001b[0m \u001b[32m━━━━━━━━━━━━━━━━━━━━\u001b[0m\u001b[37m\u001b[0m \u001b[1m91s\u001b[0m 556ms/step - accuracy: 0.9757 - loss: 0.0701 - val_accuracy: 0.7324 - val_loss: 1.3408\n",
      "Epoch 4/5\n",
      "\u001b[1m163/163\u001b[0m \u001b[32m━━━━━━━━━━━━━━━━━━━━\u001b[0m\u001b[37m\u001b[0m \u001b[1m88s\u001b[0m 538ms/step - accuracy: 0.9762 - loss: 0.0695 - val_accuracy: 0.7580 - val_loss: 1.3795\n",
      "Epoch 5/5\n",
      "\u001b[1m163/163\u001b[0m \u001b[32m━━━━━━━━━━━━━━━━━━━━\u001b[0m\u001b[37m\u001b[0m \u001b[1m86s\u001b[0m 528ms/step - accuracy: 0.9769 - loss: 0.0586 - val_accuracy: 0.7388 - val_loss: 1.3458\n"
     ]
    },
    {
     "data": {
      "text/plain": [
       "<keras.src.callbacks.history.History at 0x15f81be5220>"
      ]
     },
     "execution_count": 20,
     "metadata": {},
     "output_type": "execute_result"
    }
   ],
   "source": [
    "model.fit(train_set,epochs=5,validation_data=test_set)"
   ]
  },
  {
   "cell_type": "code",
   "execution_count": 22,
   "id": "d0d0c51d-160f-46b9-93d7-f4ae15383b78",
   "metadata": {},
   "outputs": [
    {
     "name": "stdout",
     "output_type": "stream",
     "text": [
      "\u001b[1m1/1\u001b[0m \u001b[32m━━━━━━━━━━━━━━━━━━━━\u001b[0m\u001b[37m\u001b[0m \u001b[1m0s\u001b[0m 29ms/step\n",
      "Prediction: Pneumonia (1.00 probability)\n"
     ]
    },
    {
     "data": {
      "text/plain": [
       "'Pneumonia'"
      ]
     },
     "execution_count": 22,
     "metadata": {},
     "output_type": "execute_result"
    }
   ],
   "source": [
    "from tensorflow.keras.models import load_model\n",
    "from tensorflow.keras.preprocessing import image\n",
    "import numpy as np\n",
    "\n",
    "# Load model\n",
    "#model = load_model(\"pneumonia_model.h5\")  # <-- Update the path if needed\n",
    "class_names = [\"Normal\", \"Pneumonia\"]\n",
    "\n",
    "# Correct image path\n",
    "img_path = r\"C:\\Users\\Aman Tiwari\\Downloads\\test-x-ray\\PNEUMONIA\\person80_bacteria_392.jpeg\"\n",
    "\n",
    "def predict_image(img_path):\n",
    "    # Load image with target size\n",
    "    img = image.load_img(img_path, target_size=(150, 150))\n",
    "    \n",
    "    # Convert image to array and normalize\n",
    "    img_array = image.img_to_array(img)\n",
    "    img_array = np.expand_dims(img_array, axis=0)\n",
    "    img_array /= 255.0\n",
    "\n",
    "    # Predict\n",
    "    prediction = model.predict(img_array)\n",
    "\n",
    "    if prediction[0][0] > 0.5:\n",
    "        result = class_names[1]  # Pneumonia\n",
    "    else:\n",
    "        result = class_names[0]  # Normal\n",
    "\n",
    "    print(f\"Prediction: {result} ({prediction[0][0]:.2f} probability)\")\n",
    "    return result\n",
    "\n",
    "# Call the function\n",
    "predict_image(img_path)\n"
   ]
  },
  {
   "cell_type": "code",
   "execution_count": 23,
   "id": "acbfa836-d98a-4426-8278-514719eed002",
   "metadata": {},
   "outputs": [
    {
     "name": "stderr",
     "output_type": "stream",
     "text": [
      "WARNING:absl:You are saving your model as an HDF5 file via `model.save()` or `keras.saving.save_model(model)`. This file format is considered legacy. We recommend using instead the native Keras format, e.g. `model.save('my_model.keras')` or `keras.saving.save_model(model, 'my_model.keras')`. \n"
     ]
    }
   ],
   "source": [
    "model.save('model.h5')\n"
   ]
  },
  {
   "cell_type": "code",
   "execution_count": null,
   "id": "5272b79e-93fc-49d9-95a9-dd278ecdf317",
   "metadata": {},
   "outputs": [],
   "source": []
  }
 ],
 "metadata": {
  "kernelspec": {
   "display_name": "Python 3 (ipykernel)",
   "language": "python",
   "name": "python3"
  },
  "language_info": {
   "codemirror_mode": {
    "name": "ipython",
    "version": 3
   },
   "file_extension": ".py",
   "mimetype": "text/x-python",
   "name": "python",
   "nbconvert_exporter": "python",
   "pygments_lexer": "ipython3",
   "version": "3.9.4"
  }
 },
 "nbformat": 4,
 "nbformat_minor": 5
}
